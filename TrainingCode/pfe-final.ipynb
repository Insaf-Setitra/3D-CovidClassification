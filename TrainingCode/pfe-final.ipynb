{
 "cells": [
  {
   "cell_type": "code",
   "execution_count": 1,
   "metadata": {
    "collapsed": true,
    "executionInfo": {
     "elapsed": 2575,
     "status": "ok",
     "timestamp": 1629972409966,
     "user": {
      "displayName": "Rym khettab",
      "photoUrl": "",
      "userId": "04522407249475834353"
     },
     "user_tz": -120
    },
    "id": "wPpScSAldZdI"
   },
   "outputs": [],
   "source": [
    "import numpy as np # linear algebra\n",
    "import pandas as pd # data processing\n",
    "import os #local files\n",
    "import zipfile #unzip files\n",
    "import tensorflow as tf\n",
    "from tensorflow import keras\n",
    "from tensorflow.keras import layers\n",
    "#for dirname, _, filenames in os.walk('/kaggle/input'):\n",
    "#for filename in filenames:\n",
    "#print(os.path.join(dirname, filename))"
   ]
  },
  {
   "cell_type": "code",
   "execution_count": 2,
   "metadata": {
    "executionInfo": {
     "elapsed": 649,
     "status": "ok",
     "timestamp": 1629972414565,
     "user": {
      "displayName": "Rym khettab",
      "photoUrl": "",
      "userId": "04522407249475834353"
     },
     "user_tz": -120
    },
    "id": "sI3Y5_4AdZdT"
   },
   "outputs": [],
   "source": [
    "seed_value= 12321 # 1. Set `PYTHONHASHSEED` environment variable at a fixed value\n",
    "os.environ['PYTHONHASHSEED']=str(seed_value)# 2. Set `python` built-in pseudo-ran"
   ]
  },
  {
   "cell_type": "code",
   "execution_count": 3,
   "metadata": {
    "executionInfo": {
     "elapsed": 308,
     "status": "ok",
     "timestamp": 1629972427134,
     "user": {
      "displayName": "Rym khettab",
      "photoUrl": "",
      "userId": "04522407249475834353"
     },
     "user_tz": -120
    },
    "id": "8wuErq7cdZdU"
   },
   "outputs": [],
   "source": [
    "#set a seed value\n",
    "from numpy.random import seed\n",
    "seed(1)\n",
    "tf.random.set_seed(2)"
   ]
  },
  {
   "cell_type": "code",
   "execution_count": 4,
   "metadata": {
    "executionInfo": {
     "elapsed": 377,
     "status": "ok",
     "timestamp": 1629972432533,
     "user": {
      "displayName": "Rym khettab",
      "photoUrl": "",
      "userId": "04522407249475834353"
     },
     "user_tz": -120
    },
    "id": "z2uoy3uWdZdX"
   },
   "outputs": [],
   "source": [
    "import nibabel as nib\n",
    "from scipy import ndimage\n",
    "#function to read the nii file\n",
    "def read_nifti_file(filepath):\n",
    "    # Read file\n",
    "    scan = nib.load(filepath)\n",
    "    # Get raw data\n",
    "    scan = scan.get_fdata()\n",
    "    return scan"
   ]
  },
  {
   "cell_type": "code",
   "execution_count": 5,
   "metadata": {
    "executionInfo": {
     "elapsed": 431,
     "status": "ok",
     "timestamp": 1629972437685,
     "user": {
      "displayName": "Rym khettab",
      "photoUrl": "",
      "userId": "04522407249475834353"
     },
     "user_tz": -120
    },
    "id": "IJnLj4IOdZdZ"
   },
   "outputs": [],
   "source": [
    "#function to normalize the image\n",
    "def normalize(volume):\n",
    "    min = -1000 #make the minimum of a volume to -1000\n",
    "    max = 400 #make the maximum of a volume to -1000\n",
    "    volume[volume < min] = min\n",
    "    volume[volume > max] = max\n",
    "    volume = (volume - min) / (max - min)\n",
    "    volume = volume.astype(\"float32\")#make raw voxel float values\n",
    "    return volume"
   ]
  },
  {
   "cell_type": "code",
   "execution_count": 6,
   "metadata": {
    "executionInfo": {
     "elapsed": 323,
     "status": "ok",
     "timestamp": 1629972441023,
     "user": {
      "displayName": "Rym khettab",
      "photoUrl": "",
      "userId": "04522407249475834353"
     },
     "user_tz": -120
    },
    "id": "cbHwiDTwdZdb"
   },
   "outputs": [],
   "source": [
    "def resize_volume(img):\n",
    "    \"\"\"Resize across z-axis\"\"\"\n",
    "    # Set the desired depth\n",
    "    desired_depth = 64\n",
    "    desired_width = 128\n",
    "    desired_height = 128\n",
    "    # Get current depth\n",
    "    current_depth = img.shape[-1]\n",
    "    current_width = img.shape[0]\n",
    "    current_height = img.shape[1]\n",
    "    # Compute depth factor\n",
    "    depth = current_depth / desired_depth\n",
    "    width = current_width / desired_width\n",
    "    height = current_height / desired_height\n",
    "    depth_factor = 1 / depth\n",
    "    width_factor = 1 / width\n",
    "    height_factor =1 / height\n",
    "    # Rotate\n",
    "    img = ndimage.rotate(img, 90, reshape=False)\n",
    "    # spline zoom interpolated\n",
    "    img = ndimage.zoom(img, (width_factor, height_factor, depth_factor), order=1)\n",
    "    return img"
   ]
  },
  {
   "cell_type": "code",
   "execution_count": 7,
   "metadata": {
    "executionInfo": {
     "elapsed": 317,
     "status": "ok",
     "timestamp": 1629972446646,
     "user": {
      "displayName": "Rym khettab",
      "photoUrl": "",
      "userId": "04522407249475834353"
     },
     "user_tz": -120
    },
    "id": "JoqmhqnOdZdf"
   },
   "outputs": [],
   "source": [
    "def process_scan(path):\n",
    "    # Read the volume\n",
    "    volume = read_nifti_file(path)\n",
    "    # Normalize the volume\n",
    "    volume = normalize(volume)\n",
    "    # Resize width, height and depth of the volume\n",
    "    volume = resize_volume(volume)\n",
    "    return volume"
   ]
  },
  {
   "cell_type": "code",
   "execution_count": 8,
   "metadata": {
    "executionInfo": {
     "elapsed": 4094,
     "status": "ok",
     "timestamp": 1629972453912,
     "user": {
      "displayName": "Rym khettab",
      "photoUrl": "",
      "userId": "04522407249475834353"
     },
     "user_tz": -120
    },
    "id": "OsVC11TEf9PK"
   },
   "outputs": [],
   "source": [
    "#import datasets\n",
    "! pip install -q kaggle"
   ]
  },
  {
   "cell_type": "code",
   "execution_count": 9,
   "metadata": {
    "colab": {
     "base_uri": "https://localhost:8080/",
     "height": 94,
     "resources": {
      "http://localhost:8080/nbextensions/google.colab/files.js": {
       "data": "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",
       "headers": [
        [
         "content-type",
         "application/javascript"
        ]
       ],
       "ok": true,
       "status": 200,
       "status_text": "OK"
      }
     }
    },
    "executionInfo": {
     "elapsed": 33799,
     "status": "ok",
     "timestamp": 1629972574387,
     "user": {
      "displayName": "Rym khettab",
      "photoUrl": "",
      "userId": "04522407249475834353"
     },
     "user_tz": -120
    },
    "id": "FWR8BGUyiaHH",
    "outputId": "75ded3dd-5b3d-4a9f-b95a-54bc2836572f"
   },
   "outputs": [
    {
     "data": {
      "text/html": [
       "\n",
       "     <input type=\"file\" id=\"files-63bd10ae-941d-4a00-b210-97d300abb7ca\" name=\"files[]\" multiple disabled\n",
       "        style=\"border:none\" />\n",
       "     <output id=\"result-63bd10ae-941d-4a00-b210-97d300abb7ca\">\n",
       "      Upload widget is only available when the cell has been executed in the\n",
       "      current browser session. Please rerun this cell to enable.\n",
       "      </output>\n",
       "      <script src=\"/nbextensions/google.colab/files.js\"></script> "
      ],
      "text/plain": [
       "<IPython.core.display.HTML object>"
      ]
     },
     "metadata": {},
     "output_type": "display_data"
    },
    {
     "name": "stdout",
     "output_type": "stream",
     "text": [
      "Saving kaggle.json to kaggle.json\n"
     ]
    },
    {
     "data": {
      "text/plain": [
       "{'kaggle.json': b'{\"username\":\"rymkhettab\",\"key\":\"f9752b9341ab25bd51c202ae7513518f\"}'}"
      ]
     },
     "execution_count": 9,
     "metadata": {},
     "output_type": "execute_result"
    }
   ],
   "source": [
    "from google.colab import files\n",
    "\n",
    "files.upload()"
   ]
  },
  {
   "cell_type": "code",
   "execution_count": 10,
   "metadata": {
    "executionInfo": {
     "elapsed": 1394,
     "status": "ok",
     "timestamp": 1629972582506,
     "user": {
      "displayName": "Rym khettab",
      "photoUrl": "",
      "userId": "04522407249475834353"
     },
     "user_tz": -120
    },
    "id": "DCILDtlRij5r"
   },
   "outputs": [],
   "source": [
    "! mkdir ~/.kaggle\n",
    "\n",
    "! cp kaggle.json ~/.kaggle/"
   ]
  },
  {
   "cell_type": "code",
   "execution_count": 11,
   "metadata": {
    "executionInfo": {
     "elapsed": 23,
     "status": "ok",
     "timestamp": 1629972589830,
     "user": {
      "displayName": "Rym khettab",
      "photoUrl": "",
      "userId": "04522407249475834353"
     },
     "user_tz": -120
    },
    "id": "EukglQIyimal"
   },
   "outputs": [],
   "source": [
    " ! chmod 600 ~/.kaggle/kaggle.json"
   ]
  },
  {
   "cell_type": "code",
   "execution_count": 12,
   "metadata": {
    "colab": {
     "base_uri": "https://localhost:8080/"
    },
    "executionInfo": {
     "elapsed": 9848,
     "status": "ok",
     "timestamp": 1629972604643,
     "user": {
      "displayName": "Rym khettab",
      "photoUrl": "",
      "userId": "04522407249475834353"
     },
     "user_tz": -120
    },
    "id": "0a2zuKk4iz2V",
    "outputId": "5821832f-fcc9-4528-f6fc-f12ef3dc953f"
   },
   "outputs": [
    {
     "name": "stdout",
     "output_type": "stream",
     "text": [
      "Downloading covid19-ct-scans.zip to /content\n",
      "100% 1.03G/1.03G [00:08<00:00, 136MB/s]\n",
      "100% 1.03G/1.03G [00:08<00:00, 131MB/s]\n"
     ]
    }
   ],
   "source": [
    "! kaggle datasets download -d andrewmvd/covid19-ct-scans"
   ]
  },
  {
   "cell_type": "code",
   "execution_count": 13,
   "metadata": {
    "colab": {
     "base_uri": "https://localhost:8080/"
    },
    "executionInfo": {
     "elapsed": 275117,
     "status": "ok",
     "timestamp": 1629972889420,
     "user": {
      "displayName": "Rym khettab",
      "photoUrl": "",
      "userId": "04522407249475834353"
     },
     "user_tz": -120
    },
    "id": "vu5RjzbdkQZC",
    "outputId": "a377de13-719b-492f-8aed-cca9f186a4bc"
   },
   "outputs": [
    {
     "name": "stdout",
     "output_type": "stream",
     "text": [
      "Downloading mosmeddata-chest-ct-scans-with-covid19.zip to /content\n",
      "100% 11.1G/11.1G [04:35<00:00, 35.1MB/s]\n",
      "100% 11.1G/11.1G [04:35<00:00, 43.3MB/s]\n"
     ]
    }
   ],
   "source": [
    "! kaggle datasets download -d mathurinache/mosmeddata-chest-ct-scans-with-covid19"
   ]
  },
  {
   "cell_type": "code",
   "execution_count": 14,
   "metadata": {
    "executionInfo": {
     "elapsed": 77927,
     "status": "ok",
     "timestamp": 1629972988050,
     "user": {
      "displayName": "Rym khettab",
      "photoUrl": "",
      "userId": "04522407249475834353"
     },
     "user_tz": -120
    },
    "id": "5uaImELzlmqS"
   },
   "outputs": [],
   "source": [
    "import zipfile\n",
    "with zipfile.ZipFile(\"/content/covid19-ct-scans.zip\",\"r\") as z:\n",
    "  z.extractall(\".\")"
   ]
  },
  {
   "cell_type": "code",
   "execution_count": 15,
   "metadata": {
    "executionInfo": {
     "elapsed": 393190,
     "status": "ok",
     "timestamp": 1629973597559,
     "user": {
      "displayName": "Rym khettab",
      "photoUrl": "",
      "userId": "04522407249475834353"
     },
     "user_tz": -120
    },
    "id": "rRaMKPw63qx0"
   },
   "outputs": [],
   "source": [
    "import zipfile\n",
    "with zipfile.ZipFile(\"/content/mosmeddata-chest-ct-scans-with-covid19.zip\",\"r\") as z:\n",
    "  z.extractall(\".\")"
   ]
  },
  {
   "cell_type": "code",
   "execution_count": 16,
   "metadata": {
    "executionInfo": {
     "elapsed": 366,
     "status": "ok",
     "timestamp": 1629975082050,
     "user": {
      "displayName": "Rym khettab",
      "photoUrl": "",
      "userId": "04522407249475834353"
     },
     "user_tz": -120
    },
    "id": "xRkaPCmgdZdh"
   },
   "outputs": [],
   "source": [
    "import glob\n",
    "abnormal_ct_scan_paths=[\n",
    "    os.path.join(\"/content/ct_scans\", x)\n",
    "    for x in os.listdir(\"/content/ct_scans\")\n",
    "]\n",
    "#/content/covid19-ct-scans.zip\n",
    "#/content/MosMedData Chest CT Scans with COVID-19 Related Findings COVID19_1110 1.0/studies\n",
    "normal_ct_scan_paths1= [\n",
    "    os.path.join(\"/content/MosMedData Chest CT Scans with COVID-19 Related Findings COVID19_1110 1.0/studies/CT-0\", x)\n",
    "    for x in os.listdir(\"/content/MosMedData Chest CT Scans with COVID-19 Related Findings COVID19_1110 1.0/studies/CT-0\")\n",
    "]\n",
    "normal_ct_scan_paths2=sorted(normal_ct_scan_paths1)\n",
    "\n",
    "normal_ct_scan_paths=normal_ct_scan_paths2[0:102]\n",
    "abnormal_ct_scan_paths1= [\n",
    "    os.path.join(\"/content/MosMedData Chest CT Scans with COVID-19 Related Findings COVID19_1110 1.0/studies/CT-1\", x)\n",
    "    for x in os.listdir(\"/content/MosMedData Chest CT Scans with COVID-19 Related Findings COVID19_1110 1.0/studies/CT-1\")\n",
    "]\n",
    "abnormal_ct_scan_paths2=sorted(abnormal_ct_scan_paths1)\n",
    "abnormal_ct_scan_paths3=abnormal_ct_scan_paths2[:20]\n",
    "for i in abnormal_ct_scan_paths3:\n",
    "    abnormal_ct_scan_paths.append(i)\n",
    "ct_2_a_ajouter=[\n",
    "    os.path.join(\"/content/MosMedData Chest CT Scans with COVID-19 Related Findings COVID19_1110 1.0/studies/CT-2\",x)\n",
    "    for x in os.listdir(\"/content/MosMedData Chest CT Scans with COVID-19 Related Findings COVID19_1110 1.0/studies/CT-2\")\n",
    "]\n",
    "ct_2_sorted=sorted(ct_2_a_ajouter)\n",
    "ct_2=ct_2_sorted[:30]#etait a 30\n",
    "for i in ct_2:\n",
    "    abnormal_ct_scan_paths.append(i)\n",
    "ct_3_a_ajouter=[\n",
    "    os.path.join(\"/content/MosMedData Chest CT Scans with COVID-19 Related Findings COVID19_1110 1.0/studies/CT-3\",x)\n",
    "    for x in os.listdir(\"/content/MosMedData Chest CT Scans with COVID-19 Related Findings COVID19_1110 1.0/studies/CT-3\")\n",
    "]\n",
    "ct_3_sorted=sorted(ct_3_a_ajouter)\n",
    "ct_3=ct_3_sorted[:30]#elle etait 28 \n",
    "for i in ct_3:\n",
    "    abnormal_ct_scan_paths.append(i)\n",
    "abnormal_ct_scan_paths.append('/content/MosMedData Chest CT Scans with COVID-19 Related Findings COVID19_1110 1.0/studies/CT-4/study_1109.nii')\n",
    "abnormal_ct_scan_paths.append('/content/MosMedData Chest CT Scans with COVID-19 Related Findings COVID19_1110 1.0/studies/CT-4/study_1110.nii')"
   ]
  },
  {
   "cell_type": "code",
   "execution_count": 17,
   "metadata": {
    "executionInfo": {
     "elapsed": 766262,
     "status": "ok",
     "timestamp": 1629976995862,
     "user": {
      "displayName": "Rym khettab",
      "photoUrl": "",
      "userId": "04522407249475834353"
     },
     "user_tz": -120
    },
    "id": "K1ybQhafdZdk"
   },
   "outputs": [],
   "source": [
    "abnormal_scans = np.array([process_scan(path) for path in abnormal_ct_scan_paths])\n",
    "normal_scans = np.array([process_scan(path) for path in normal_ct_scan_paths])"
   ]
  },
  {
   "cell_type": "code",
   "execution_count": 18,
   "metadata": {
    "executionInfo": {
     "elapsed": 630,
     "status": "ok",
     "timestamp": 1629977753565,
     "user": {
      "displayName": "Rym khettab",
      "photoUrl": "",
      "userId": "04522407249475834353"
     },
     "user_tz": -120
    },
    "id": "SuPxqv-UdZdk"
   },
   "outputs": [],
   "source": [
    "abnormal_labels = np.array([1 for i in range(len(abnormal_scans))])\n",
    "normal_labels = np.array([0 for i in range(len(normal_scans))])"
   ]
  },
  {
   "cell_type": "code",
   "execution_count": 19,
   "metadata": {
    "executionInfo": {
     "elapsed": 1173,
     "status": "ok",
     "timestamp": 1629977757284,
     "user": {
      "displayName": "Rym khettab",
      "photoUrl": "",
      "userId": "04522407249475834353"
     },
     "user_tz": -120
    },
    "id": "Gk2taTandZdl"
   },
   "outputs": [],
   "source": [
    "# Split data in the ratio 70-30 for training and validation.\n",
    "x_train = np.concatenate((abnormal_scans[:71], normal_scans[:71]), axis=0)\n",
    "y_train = np.concatenate((abnormal_labels[:71], normal_labels[:71]), axis=0)\n",
    "x_val = np.concatenate((abnormal_scans[71:], normal_scans[71:]), axis=0)\n",
    "y_val = np.concatenate((abnormal_labels[71:], normal_labels[71:]), axis=0)"
   ]
  },
  {
   "cell_type": "code",
   "execution_count": 20,
   "metadata": {
    "executionInfo": {
     "elapsed": 563,
     "status": "ok",
     "timestamp": 1629977768401,
     "user": {
      "displayName": "Rym khettab",
      "photoUrl": "",
      "userId": "04522407249475834353"
     },
     "user_tz": -120
    },
    "id": "0b0Bgm9mdZdl"
   },
   "outputs": [],
   "source": [
    "#data augmentation\n",
    "def rotate(volume):\n",
    "\n",
    "    def scipy_rotate(volume):\n",
    "        # define rotation angles\n",
    "        angles = [-20, -10, -5, 5, 10, 20]\n",
    "        # pick angles at random\n",
    "        angle = random.choice(angles)\n",
    "        # rotate volume\n",
    "        volume = ndimage.rotate(volume, angle, reshape=False)\n",
    "        volume[volume < 0] = 0\n",
    "        volume[volume > 1] = 1\n",
    "        return volume\n",
    "\n",
    "    augmented_volume = tf.numpy_function(scipy_rotate, [volume], tf.float32)#augment the volume\n",
    "    return augmented_volume\n",
    "\n",
    "\n",
    "def train_preprocessing(volume, label):\n",
    "    #rotating and adding a channel to the training volume\n",
    "    volume = rotate(volume)\n",
    "    volume = tf.expand_dims(volume, axis=3)\n",
    "    return volume, label\n",
    "\n",
    "def validation_preprocessing(volume, label):\n",
    "    #adding a channel to the validation volume \"\"\"\n",
    "    volume = tf.expand_dims(volume, axis=3)\n",
    "    return volume, label"
   ]
  },
  {
   "cell_type": "code",
   "execution_count": null,
   "metadata": {
    "id": "hh_aUCG1dZdm"
   },
   "outputs": [],
   "source": []
  },
  {
   "cell_type": "code",
   "execution_count": 21,
   "metadata": {
    "executionInfo": {
     "elapsed": 2294,
     "status": "ok",
     "timestamp": 1629977778555,
     "user": {
      "displayName": "Rym khettab",
      "photoUrl": "",
      "userId": "04522407249475834353"
     },
     "user_tz": -120
    },
    "id": "fbPYQD4TdZdm"
   },
   "outputs": [],
   "source": [
    "import tensorflow as tf\n",
    "# Define data loaders.\n",
    "train_loader = tf.data.Dataset.from_tensor_slices((x_train, y_train))\n",
    "validation_loader = tf.data.Dataset.from_tensor_slices((x_val, y_val))\n",
    "batch_size = 2\n",
    "# Augment the on the fly during training.\n",
    "train_dataset = (\n",
    "    train_loader.shuffle(len(x_train))\n",
    "    .map(train_preprocessing)\n",
    "    .batch(batch_size)\n",
    "    .prefetch(2)\n",
    ")\n",
    "# rescale data\n",
    "validation_dataset = (\n",
    "    validation_loader.shuffle(len(x_val))\n",
    "    .map(validation_preprocessing)\n",
    "    .batch(batch_size)\n",
    "    .prefetch(2)\n",
    ")\n"
   ]
  },
  {
   "cell_type": "code",
   "execution_count": 22,
   "metadata": {
    "executionInfo": {
     "elapsed": 5935,
     "status": "ok",
     "timestamp": 1629977793845,
     "user": {
      "displayName": "Rym khettab",
      "photoUrl": "",
      "userId": "04522407249475834353"
     },
     "user_tz": -120
    },
    "id": "1VucxMRVdZdn"
   },
   "outputs": [],
   "source": [
    "import matplotlib.pyplot as plt\n",
    "import random"
   ]
  },
  {
   "cell_type": "code",
   "execution_count": null,
   "metadata": {
    "id": "2hdvqSlUdZdn"
   },
   "outputs": [],
   "source": []
  },
  {
   "cell_type": "code",
   "execution_count": null,
   "metadata": {
    "id": "cnTfYwondZdn"
   },
   "outputs": [],
   "source": [
    "\n"
   ]
  },
  {
   "cell_type": "code",
   "execution_count": 23,
   "metadata": {
    "colab": {
     "base_uri": "https://localhost:8080/"
    },
    "executionInfo": {
     "elapsed": 1500,
     "status": "ok",
     "timestamp": 1629977800341,
     "user": {
      "displayName": "Rym khettab",
      "photoUrl": "",
      "userId": "04522407249475834353"
     },
     "user_tz": -120
    },
    "id": "LrJuyO8BdZdo",
    "outputId": "cf1732c5-c455-4583-a6df-c809d6989cf0"
   },
   "outputs": [
    {
     "name": "stdout",
     "output_type": "stream",
     "text": [
      "Model: \"3dcnn\"\n",
      "_________________________________________________________________\n",
      "Layer (type)                 Output Shape              Param #   \n",
      "=================================================================\n",
      "input_1 (InputLayer)         [(None, 128, 128, 64, 1)] 0         \n",
      "_________________________________________________________________\n",
      "conv3d (Conv3D)              (None, 126, 126, 62, 64)  1792      \n",
      "_________________________________________________________________\n",
      "max_pooling3d (MaxPooling3D) (None, 63, 63, 31, 64)    0         \n",
      "_________________________________________________________________\n",
      "batch_normalization (BatchNo (None, 63, 63, 31, 64)    256       \n",
      "_________________________________________________________________\n",
      "conv3d_1 (Conv3D)            (None, 61, 61, 29, 64)    110656    \n",
      "_________________________________________________________________\n",
      "max_pooling3d_1 (MaxPooling3 (None, 30, 30, 14, 64)    0         \n",
      "_________________________________________________________________\n",
      "batch_normalization_1 (Batch (None, 30, 30, 14, 64)    256       \n",
      "_________________________________________________________________\n",
      "conv3d_2 (Conv3D)            (None, 28, 28, 12, 128)   221312    \n",
      "_________________________________________________________________\n",
      "max_pooling3d_2 (MaxPooling3 (None, 14, 14, 6, 128)    0         \n",
      "_________________________________________________________________\n",
      "batch_normalization_2 (Batch (None, 14, 14, 6, 128)    512       \n",
      "_________________________________________________________________\n",
      "conv3d_3 (Conv3D)            (None, 12, 12, 4, 256)    884992    \n",
      "_________________________________________________________________\n",
      "max_pooling3d_3 (MaxPooling3 (None, 6, 6, 2, 256)      0         \n",
      "_________________________________________________________________\n",
      "batch_normalization_3 (Batch (None, 6, 6, 2, 256)      1024      \n",
      "_________________________________________________________________\n",
      "global_average_pooling3d (Gl (None, 256)               0         \n",
      "_________________________________________________________________\n",
      "dense (Dense)                (None, 512)               131584    \n",
      "_________________________________________________________________\n",
      "dropout (Dropout)            (None, 512)               0         \n",
      "_________________________________________________________________\n",
      "dense_1 (Dense)              (None, 1)                 513       \n",
      "=================================================================\n",
      "Total params: 1,352,897\n",
      "Trainable params: 1,351,873\n",
      "Non-trainable params: 1,024\n",
      "_________________________________________________________________\n"
     ]
    }
   ],
   "source": [
    "import tensorflow as tf\n",
    "from tensorflow import keras\n",
    "def get_model(width=128, height=128, depth=64):\n",
    "    inputs = keras.Input((width, height, depth, 1))\n",
    "    x = keras.layers.Conv3D(filters=64, kernel_size=3, activation=\"relu\")(inputs)\n",
    "    x = keras.layers.MaxPool3D(pool_size=2)(x)\n",
    "    x = keras.layers.BatchNormalization()(x)\n",
    "\n",
    "    x = keras.layers.Conv3D(filters=64, kernel_size=3, activation=\"relu\")(x)\n",
    "    x = keras.layers.MaxPool3D(pool_size=2)(x)\n",
    "    x = keras.layers.BatchNormalization()(x)\n",
    "\n",
    "    x = keras.layers.Conv3D(filters=128, kernel_size=3, activation=\"relu\")(x)\n",
    "    x = keras.layers.MaxPool3D(pool_size=2)(x)\n",
    "    x = keras.layers.BatchNormalization()(x)\n",
    "\n",
    "    x = keras.layers.Conv3D(filters=256, kernel_size=3, activation=\"relu\")(x)\n",
    "    x = keras.layers.MaxPool3D(pool_size=2)(x)\n",
    "    x = keras.layers.BatchNormalization()(x)\n",
    "\n",
    "    x = keras.layers.GlobalAveragePooling3D()(x)\n",
    "    x = keras.layers.Dense(units=512, activation=\"relu\")(x)\n",
    "    x = keras.layers.Dropout(0.3)(x)\n",
    "    \n",
    "    outputs = keras.layers.Dense(units=1, activation=\"sigmoid\")(x)\n",
    "    # Define the model\n",
    "    model = keras.Model(inputs, outputs, name=\"3dcnn\")\n",
    "    return model\n",
    "\n",
    "# Build model.\n",
    "model = get_model(width=128, height=128, depth=64)\n",
    "model.summary()"
   ]
  },
  {
   "cell_type": "code",
   "execution_count": null,
   "metadata": {
    "colab": {
     "base_uri": "https://localhost:8080/"
    },
    "id": "Ih_VvmPndZdo",
    "outputId": "cb298b9e-104e-4963-9c0b-edd062e679fa"
   },
   "outputs": [
    {
     "name": "stdout",
     "output_type": "stream",
     "text": [
      "Epoch 1/100\n",
      "71/71 - 1759s - loss: 0.6729 - acc: 0.6268 - val_loss: 1.0098 - val_acc: 0.5000\n",
      "Epoch 2/100\n",
      "71/71 - 1746s - loss: 0.6652 - acc: 0.5775 - val_loss: 0.6810 - val_acc: 0.5968\n",
      "Epoch 3/100\n",
      "71/71 - 1728s - loss: 0.6262 - acc: 0.6268 - val_loss: 1.7293 - val_acc: 0.5000\n",
      "Epoch 4/100\n",
      "71/71 - 1727s - loss: 0.6031 - acc: 0.6127 - val_loss: 0.7492 - val_acc: 0.5000\n",
      "Epoch 5/100\n",
      "71/71 - 1722s - loss: 0.5561 - acc: 0.6761 - val_loss: 0.6732 - val_acc: 0.5968\n",
      "Epoch 6/100\n",
      "71/71 - 1718s - loss: 0.5821 - acc: 0.6690 - val_loss: 1.1541 - val_acc: 0.5000\n",
      "Epoch 7/100\n",
      "71/71 - 1718s - loss: 0.5730 - acc: 0.6690 - val_loss: 0.6233 - val_acc: 0.6290\n",
      "Epoch 8/100\n",
      "71/71 - 1717s - loss: 0.5769 - acc: 0.6479 - val_loss: 0.6393 - val_acc: 0.5806\n",
      "Epoch 9/100\n",
      "71/71 - 1719s - loss: 0.5689 - acc: 0.6901 - val_loss: 0.5826 - val_acc: 0.7419\n",
      "Epoch 10/100\n",
      "71/71 - 1719s - loss: 0.6110 - acc: 0.6620 - val_loss: 0.5588 - val_acc: 0.6613\n",
      "Epoch 11/100\n",
      "71/71 - 1719s - loss: 0.5865 - acc: 0.6901 - val_loss: 1.1568 - val_acc: 0.5645\n",
      "Epoch 12/100\n",
      "71/71 - 1721s - loss: 0.5633 - acc: 0.6690 - val_loss: 0.6929 - val_acc: 0.5806\n",
      "Epoch 13/100\n",
      "71/71 - 1722s - loss: 0.5472 - acc: 0.7324 - val_loss: 0.9068 - val_acc: 0.6129\n",
      "Epoch 14/100\n",
      "71/71 - 1722s - loss: 0.5505 - acc: 0.7254 - val_loss: 1.0921 - val_acc: 0.5645\n",
      "Epoch 15/100\n",
      "71/71 - 1721s - loss: 0.5582 - acc: 0.6197 - val_loss: 0.7396 - val_acc: 0.5806\n",
      "Epoch 16/100\n",
      "71/71 - 1721s - loss: 0.5704 - acc: 0.6761 - val_loss: 0.7538 - val_acc: 0.6613\n",
      "Epoch 17/100\n",
      "71/71 - 1720s - loss: 0.5181 - acc: 0.7676 - val_loss: 0.7551 - val_acc: 0.5645\n",
      "Epoch 18/100\n",
      "71/71 - 1714s - loss: 0.5510 - acc: 0.6972 - val_loss: 0.6395 - val_acc: 0.6129\n",
      "Epoch 19/100\n",
      "71/71 - 1719s - loss: 0.5060 - acc: 0.7958 - val_loss: 0.5919 - val_acc: 0.6935\n",
      "Epoch 20/100\n",
      "71/71 - 1719s - loss: 0.4878 - acc: 0.7746 - val_loss: 0.5056 - val_acc: 0.7581\n",
      "Epoch 21/100\n",
      "71/71 - 1716s - loss: 0.5332 - acc: 0.7606 - val_loss: 0.7162 - val_acc: 0.5968\n",
      "Epoch 22/100\n"
     ]
    }
   ],
   "source": [
    "# Compile model\n",
    "initial_learning_rate = 0.0001\n",
    "lr_schedule = keras.optimizers.schedules.ExponentialDecay(\n",
    "    initial_learning_rate, decay_steps=100000, decay_rate=0.96, staircase=True\n",
    ")\n",
    "model.compile(\n",
    "    loss=\"binary_crossentropy\",\n",
    "    optimizer=keras.optimizers.Adam(learning_rate=lr_schedule),\n",
    "    metrics=[\"acc\"],\n",
    ")\n",
    "\n",
    "# Define callbacks\n",
    "checkpoint_cb = keras.callbacks.ModelCheckpoint(\n",
    "    \"3d_image_classification.h5\", save_best_only=True\n",
    ")\n",
    "early_stopping_cb = keras.callbacks.EarlyStopping(monitor=\"val_acc\", patience=15)\n",
    "\n",
    "# Training the model\n",
    "epochs = 100\n",
    "model.fit(\n",
    "    train_dataset,\n",
    "    validation_data=validation_dataset,\n",
    "    epochs=epochs,\n",
    "    shuffle=True,\n",
    "    verbose=2,\n",
    "    callbacks=[checkpoint_cb, early_stopping_cb],\n",
    ")"
   ]
  },
  {
   "cell_type": "code",
   "execution_count": null,
   "metadata": {
    "colab": {
     "base_uri": "https://localhost:8080/",
     "height": 174
    },
    "executionInfo": {
     "elapsed": 461,
     "status": "error",
     "timestamp": 1629929757366,
     "user": {
      "displayName": "Rym khettab",
      "photoUrl": "",
      "userId": "04522407249475834353"
     },
     "user_tz": -120
    },
    "id": "-7L5juD1dZdp",
    "outputId": "1c4c0917-09c2-4d47-ea93-11315890bbb3"
   },
   "outputs": [
    {
     "ename": "NameError",
     "evalue": "ignored",
     "output_type": "error",
     "traceback": [
      "\u001b[0;31m---------------------------------------------------------------------------\u001b[0m",
      "\u001b[0;31mNameError\u001b[0m                                 Traceback (most recent call last)",
      "\u001b[0;32m<ipython-input-2-02de48bb950d>\u001b[0m in \u001b[0;36m<module>\u001b[0;34m()\u001b[0m\n\u001b[0;32m----> 1\u001b[0;31m \u001b[0mmodel\u001b[0m\u001b[0;34m.\u001b[0m\u001b[0msave\u001b[0m\u001b[0;34m(\u001b[0m\u001b[0;34m'./mymodel.h5'\u001b[0m\u001b[0;34m)\u001b[0m\u001b[0;34m\u001b[0m\u001b[0;34m\u001b[0m\u001b[0m\n\u001b[0m",
      "\u001b[0;31mNameError\u001b[0m: name 'model' is not defined"
     ]
    }
   ],
   "source": [
    "model.save('./mymodel.h5')"
   ]
  },
  {
   "cell_type": "code",
   "execution_count": null,
   "metadata": {
    "id": "oIPhbbY-dZdp"
   },
   "outputs": [],
   "source": [
    "model.save_weights('poids-v4.h5')"
   ]
  },
  {
   "cell_type": "code",
   "execution_count": null,
   "metadata": {
    "id": "XQI_pBhjdZdq"
   },
   "outputs": [],
   "source": [
    "import matplotlib.pyplot as plt\n",
    "fig, ax = plt.subplots(1, 2, figsize=(20, 3))\n",
    "ax = ax.ravel()\n",
    "\n",
    "for i, metric in enumerate([\"acc\", \"loss\"]):\n",
    "    ax[i].plot(model.history.history[metric])\n",
    "    ax[i].plot(model.history.history[\"val_\" + metric])\n",
    "    ax[i].set_title(\"Model {}\".format(metric))\n",
    "    ax[i].set_xlabel(\"epochs\")\n",
    "    ax[i].set_ylabel(metric)\n",
    "    ax[i].legend([\"train\", \"val\"])\n"
   ]
  },
  {
   "cell_type": "code",
   "execution_count": null,
   "metadata": {
    "id": "TpvaWcAjdZdq"
   },
   "outputs": [],
   "source": [
    "# Load best weights.\n",
    "model.load_weights(\"3dimageclassification.h5\")\n",
    "prediction = model.predict(np.expand_dims(x_val[0], axis=0))[0]\n",
    "scores = [1 - prediction[0], prediction[0]]\n",
    "\n",
    "class_names = [\"normal\", \"abnormal\"]\n",
    "for score, name in zip(scores, class_names):\n",
    "    print(\n",
    "        \"This model is %.2f percent confident that CT scan is %s\"\n",
    "        % ((100 * score), name)\n",
    "    )"
   ]
  },
  {
   "cell_type": "code",
   "execution_count": null,
   "metadata": {
    "id": "Wi8qtr6RdZdq"
   },
   "outputs": [],
   "source": []
  },
  {
   "cell_type": "code",
   "execution_count": null,
   "metadata": {
    "id": "R4Od06_6dZdr"
   },
   "outputs": [],
   "source": [
    "# testing data\n",
    "model.load_weights(\"./poids-v4.h5\")\n",
    "xnew=np.array(process_scan('../input/testingset/o19890323_233654IM051RoutineTHORAXFANONYMIZEDs002a001.nii'))\n",
    "print(xnew.shape)\n",
    "XnewX=np.expand_dims(xnew, axis=0)\n",
    "print(XnewX.shape)\n",
    "prediction = model.predict(XnewX)[0]\n",
    "scores = [1 - prediction[0], prediction[0]]\n",
    "class_names = [\"normal\", \"abnormal\"]\n",
    "for score, name in zip(scores, class_names):\n",
    "    \n",
    "    print(\n",
    "        \"This model is %.2f percent confident that CT scan is %s\"\n",
    "        % ((100 * score), name)\n",
    "    )"
   ]
  }
 ],
 "metadata": {
  "colab": {
   "name": "pfe-final.ipynb",
   "provenance": []
  },
  "kernelspec": {
   "display_name": "Python 3",
   "language": "python",
   "name": "python3"
  },
  "language_info": {
   "codemirror_mode": {
    "name": "ipython",
    "version": 3
   },
   "file_extension": ".py",
   "mimetype": "text/x-python",
   "name": "python",
   "nbconvert_exporter": "python",
   "pygments_lexer": "ipython3",
   "version": "3.7.3"
  }
 },
 "nbformat": 4,
 "nbformat_minor": 1
}
